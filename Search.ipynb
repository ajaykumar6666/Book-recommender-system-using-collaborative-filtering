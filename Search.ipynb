{
 "cells": [
  {
   "cell_type": "code",
   "execution_count": 5,
   "id": "ff95974f-8cec-40ad-8f27-97059f044fc3",
   "metadata": {},
   "outputs": [],
   "source": [
    "import gzip\n",
    "import json"
   ]
  },
  {
   "cell_type": "code",
   "execution_count": 6,
   "id": "2b4fbc5a-08f9-4b08-a17b-5ae97486760c",
   "metadata": {},
   "outputs": [],
   "source": [
    "with gzip.open('goodreads_books.json.gz','r') as f:\n",
    "    line=f.readline()"
   ]
  },
  {
   "cell_type": "code",
   "execution_count": 7,
   "id": "98a486f0-01fb-47a5-8d79-08aad8ba7dfc",
   "metadata": {},
   "outputs": [
    {
     "data": {
      "text/plain": [
       "b'{\"isbn\": \"0312853122\", \"text_reviews_count\": \"1\", \"series\": [], \"country_code\": \"US\", \"language_code\": \"\", \"popular_shelves\": [{\"count\": \"3\", \"name\": \"to-read\"}, {\"count\": \"1\", \"name\": \"p\"}, {\"count\": \"1\", \"name\": \"collection\"}, {\"count\": \"1\", \"name\": \"w-c-fields\"}, {\"count\": \"1\", \"name\": \"biography\"}], \"asin\": \"\", \"is_ebook\": \"false\", \"average_rating\": \"4.00\", \"kindle_asin\": \"\", \"similar_books\": [], \"description\": \"\", \"format\": \"Paperback\", \"link\": \"https://www.goodreads.com/book/show/5333265-w-c-fields\", \"authors\": [{\"author_id\": \"604031\", \"role\": \"\"}], \"publisher\": \"St. Martin\\'s Press\", \"num_pages\": \"256\", \"publication_day\": \"1\", \"isbn13\": \"9780312853129\", \"publication_month\": \"9\", \"edition_information\": \"\", \"publication_year\": \"1984\", \"url\": \"https://www.goodreads.com/book/show/5333265-w-c-fields\", \"image_url\": \"https://images.gr-assets.com/books/1310220028m/5333265.jpg\", \"book_id\": \"5333265\", \"ratings_count\": \"3\", \"work_id\": \"5400751\", \"title\": \"W.C. Fields: A Life on Film\", \"title_without_series\": \"W.C. Fields: A Life on Film\"}\\n'"
      ]
     },
     "execution_count": 7,
     "metadata": {},
     "output_type": "execute_result"
    }
   ],
   "source": [
    "line"
   ]
  },
  {
   "cell_type": "code",
   "execution_count": 8,
   "id": "a65439be-9fc7-4415-bfeb-66cb7ac74294",
   "metadata": {},
   "outputs": [
    {
     "data": {
      "text/plain": [
       "{'isbn': '0312853122',\n",
       " 'text_reviews_count': '1',\n",
       " 'series': [],\n",
       " 'country_code': 'US',\n",
       " 'language_code': '',\n",
       " 'popular_shelves': [{'count': '3', 'name': 'to-read'},\n",
       "  {'count': '1', 'name': 'p'},\n",
       "  {'count': '1', 'name': 'collection'},\n",
       "  {'count': '1', 'name': 'w-c-fields'},\n",
       "  {'count': '1', 'name': 'biography'}],\n",
       " 'asin': '',\n",
       " 'is_ebook': 'false',\n",
       " 'average_rating': '4.00',\n",
       " 'kindle_asin': '',\n",
       " 'similar_books': [],\n",
       " 'description': '',\n",
       " 'format': 'Paperback',\n",
       " 'link': 'https://www.goodreads.com/book/show/5333265-w-c-fields',\n",
       " 'authors': [{'author_id': '604031', 'role': ''}],\n",
       " 'publisher': \"St. Martin's Press\",\n",
       " 'num_pages': '256',\n",
       " 'publication_day': '1',\n",
       " 'isbn13': '9780312853129',\n",
       " 'publication_month': '9',\n",
       " 'edition_information': '',\n",
       " 'publication_year': '1984',\n",
       " 'url': 'https://www.goodreads.com/book/show/5333265-w-c-fields',\n",
       " 'image_url': 'https://images.gr-assets.com/books/1310220028m/5333265.jpg',\n",
       " 'book_id': '5333265',\n",
       " 'ratings_count': '3',\n",
       " 'work_id': '5400751',\n",
       " 'title': 'W.C. Fields: A Life on Film',\n",
       " 'title_without_series': 'W.C. Fields: A Life on Film'}"
      ]
     },
     "execution_count": 8,
     "metadata": {},
     "output_type": "execute_result"
    }
   ],
   "source": [
    "json.loads(line)"
   ]
  },
  {
   "cell_type": "code",
   "execution_count": 9,
   "id": "f0b96851-3c55-4fa1-a7c9-fce9c9b1a9f8",
   "metadata": {},
   "outputs": [],
   "source": [
    "def parse_fields(line):\n",
    "    data = json.loads(line)\n",
    "    return {\n",
    "        \"book_id\":data['book_id'],\n",
    "        \"title\":data['title_without_series'],\n",
    "        \"ratings\":data['ratings_count'],\n",
    "        \"url\":data['url'],\n",
    "        \"cover_image\":data['image_url']\n",
    "    }"
   ]
  },
  {
   "cell_type": "code",
   "execution_count": 11,
   "id": "10ad9cd3-3ecf-4ea5-914b-1f36da2908b7",
   "metadata": {},
   "outputs": [],
   "source": [
    "book_titles=[]\n",
    "with gzip.open('goodreads_books.json.gz','r') as f:\n",
    "    while True:\n",
    "        line = f.readline()\n",
    "        if not line:\n",
    "            break\n",
    "        fields = parse_fields(line)\n",
    "        try:\n",
    "            ratings = int(fields['ratings'])\n",
    "        except ValueError:\n",
    "            continue\n",
    "        if ratings>15:\n",
    "            book_titles.append(fields)"
   ]
  },
  {
   "cell_type": "code",
   "execution_count": 12,
   "id": "a651f7ce-db94-4aad-9a86-97846d3030c4",
   "metadata": {},
   "outputs": [],
   "source": [
    "import pandas as pd"
   ]
  },
  {
   "cell_type": "code",
   "execution_count": 13,
   "id": "6cc158f7-be84-4dbc-8e0e-66d9ffe6add0",
   "metadata": {},
   "outputs": [],
   "source": [
    "titles = pd.DataFrame.from_dict(book_titles)"
   ]
  },
  {
   "cell_type": "code",
   "execution_count": 14,
   "id": "2a21d879-6539-4a3e-9727-4cac51cae80a",
   "metadata": {},
   "outputs": [
    {
     "data": {
      "text/plain": [
       "(1308957, 5)"
      ]
     },
     "execution_count": 14,
     "metadata": {},
     "output_type": "execute_result"
    }
   ],
   "source": [
    "titles.shape"
   ]
  },
  {
   "cell_type": "code",
   "execution_count": 15,
   "id": "98199c7c-c69a-4cdd-b5fe-e97a947dfdca",
   "metadata": {},
   "outputs": [
    {
     "data": {
      "text/html": [
       "<div>\n",
       "<style scoped>\n",
       "    .dataframe tbody tr th:only-of-type {\n",
       "        vertical-align: middle;\n",
       "    }\n",
       "\n",
       "    .dataframe tbody tr th {\n",
       "        vertical-align: top;\n",
       "    }\n",
       "\n",
       "    .dataframe thead th {\n",
       "        text-align: right;\n",
       "    }\n",
       "</style>\n",
       "<table border=\"1\" class=\"dataframe\">\n",
       "  <thead>\n",
       "    <tr style=\"text-align: right;\">\n",
       "      <th></th>\n",
       "      <th>book_id</th>\n",
       "      <th>title</th>\n",
       "      <th>ratings</th>\n",
       "      <th>url</th>\n",
       "      <th>cover_image</th>\n",
       "    </tr>\n",
       "  </thead>\n",
       "  <tbody>\n",
       "    <tr>\n",
       "      <th>0</th>\n",
       "      <td>7327624</td>\n",
       "      <td>The Unschooled Wizard (Sun Wolf and Starhawk, ...</td>\n",
       "      <td>140</td>\n",
       "      <td>https://www.goodreads.com/book/show/7327624-th...</td>\n",
       "      <td>https://images.gr-assets.com/books/1304100136m...</td>\n",
       "    </tr>\n",
       "    <tr>\n",
       "      <th>1</th>\n",
       "      <td>6066819</td>\n",
       "      <td>Best Friends Forever</td>\n",
       "      <td>51184</td>\n",
       "      <td>https://www.goodreads.com/book/show/6066819-be...</td>\n",
       "      <td>https://s.gr-assets.com/assets/nophoto/book/11...</td>\n",
       "    </tr>\n",
       "    <tr>\n",
       "      <th>2</th>\n",
       "      <td>287141</td>\n",
       "      <td>The Aeneid for Boys and Girls</td>\n",
       "      <td>46</td>\n",
       "      <td>https://www.goodreads.com/book/show/287141.The...</td>\n",
       "      <td>https://s.gr-assets.com/assets/nophoto/book/11...</td>\n",
       "    </tr>\n",
       "    <tr>\n",
       "      <th>3</th>\n",
       "      <td>6066812</td>\n",
       "      <td>All's Fairy in Love and War (Avalon: Web of Ma...</td>\n",
       "      <td>98</td>\n",
       "      <td>https://www.goodreads.com/book/show/6066812-al...</td>\n",
       "      <td>https://images.gr-assets.com/books/1316637798m...</td>\n",
       "    </tr>\n",
       "    <tr>\n",
       "      <th>4</th>\n",
       "      <td>287149</td>\n",
       "      <td>The Devil's Notebook</td>\n",
       "      <td>986</td>\n",
       "      <td>https://www.goodreads.com/book/show/287149.The...</td>\n",
       "      <td>https://images.gr-assets.com/books/1328768789m...</td>\n",
       "    </tr>\n",
       "    <tr>\n",
       "      <th>...</th>\n",
       "      <td>...</td>\n",
       "      <td>...</td>\n",
       "      <td>...</td>\n",
       "      <td>...</td>\n",
       "      <td>...</td>\n",
       "    </tr>\n",
       "    <tr>\n",
       "      <th>1308952</th>\n",
       "      <td>17805813</td>\n",
       "      <td>Ondine (Ondine Quartet, #0.5)</td>\n",
       "      <td>327</td>\n",
       "      <td>https://www.goodreads.com/book/show/17805813-o...</td>\n",
       "      <td>https://images.gr-assets.com/books/1379766592m...</td>\n",
       "    </tr>\n",
       "    <tr>\n",
       "      <th>1308953</th>\n",
       "      <td>331839</td>\n",
       "      <td>Jacqueline Kennedy Onassis: Friend of the Arts</td>\n",
       "      <td>18</td>\n",
       "      <td>https://www.goodreads.com/book/show/331839.Jac...</td>\n",
       "      <td>https://s.gr-assets.com/assets/nophoto/book/11...</td>\n",
       "    </tr>\n",
       "    <tr>\n",
       "      <th>1308954</th>\n",
       "      <td>2685097</td>\n",
       "      <td>The Spaniard's Blackmailed Bride</td>\n",
       "      <td>112</td>\n",
       "      <td>https://www.goodreads.com/book/show/2685097-th...</td>\n",
       "      <td>https://s.gr-assets.com/assets/nophoto/book/11...</td>\n",
       "    </tr>\n",
       "    <tr>\n",
       "      <th>1308955</th>\n",
       "      <td>2342551</td>\n",
       "      <td>The Children's Classic Poetry Collection</td>\n",
       "      <td>36</td>\n",
       "      <td>https://www.goodreads.com/book/show/2342551.Th...</td>\n",
       "      <td>https://s.gr-assets.com/assets/nophoto/book/11...</td>\n",
       "    </tr>\n",
       "    <tr>\n",
       "      <th>1308956</th>\n",
       "      <td>22017381</td>\n",
       "      <td>101 Nights: Volume One (101 Nights, #1-3)</td>\n",
       "      <td>70</td>\n",
       "      <td>https://www.goodreads.com/book/show/22017381-1...</td>\n",
       "      <td>https://images.gr-assets.com/books/1398621236m...</td>\n",
       "    </tr>\n",
       "  </tbody>\n",
       "</table>\n",
       "<p>1308957 rows × 5 columns</p>\n",
       "</div>"
      ],
      "text/plain": [
       "          book_id                                              title ratings  \\\n",
       "0         7327624  The Unschooled Wizard (Sun Wolf and Starhawk, ...     140   \n",
       "1         6066819                               Best Friends Forever   51184   \n",
       "2          287141                      The Aeneid for Boys and Girls      46   \n",
       "3         6066812  All's Fairy in Love and War (Avalon: Web of Ma...      98   \n",
       "4          287149                               The Devil's Notebook     986   \n",
       "...           ...                                                ...     ...   \n",
       "1308952  17805813                      Ondine (Ondine Quartet, #0.5)     327   \n",
       "1308953    331839     Jacqueline Kennedy Onassis: Friend of the Arts      18   \n",
       "1308954   2685097                   The Spaniard's Blackmailed Bride     112   \n",
       "1308955   2342551           The Children's Classic Poetry Collection      36   \n",
       "1308956  22017381          101 Nights: Volume One (101 Nights, #1-3)      70   \n",
       "\n",
       "                                                       url  \\\n",
       "0        https://www.goodreads.com/book/show/7327624-th...   \n",
       "1        https://www.goodreads.com/book/show/6066819-be...   \n",
       "2        https://www.goodreads.com/book/show/287141.The...   \n",
       "3        https://www.goodreads.com/book/show/6066812-al...   \n",
       "4        https://www.goodreads.com/book/show/287149.The...   \n",
       "...                                                    ...   \n",
       "1308952  https://www.goodreads.com/book/show/17805813-o...   \n",
       "1308953  https://www.goodreads.com/book/show/331839.Jac...   \n",
       "1308954  https://www.goodreads.com/book/show/2685097-th...   \n",
       "1308955  https://www.goodreads.com/book/show/2342551.Th...   \n",
       "1308956  https://www.goodreads.com/book/show/22017381-1...   \n",
       "\n",
       "                                               cover_image  \n",
       "0        https://images.gr-assets.com/books/1304100136m...  \n",
       "1        https://s.gr-assets.com/assets/nophoto/book/11...  \n",
       "2        https://s.gr-assets.com/assets/nophoto/book/11...  \n",
       "3        https://images.gr-assets.com/books/1316637798m...  \n",
       "4        https://images.gr-assets.com/books/1328768789m...  \n",
       "...                                                    ...  \n",
       "1308952  https://images.gr-assets.com/books/1379766592m...  \n",
       "1308953  https://s.gr-assets.com/assets/nophoto/book/11...  \n",
       "1308954  https://s.gr-assets.com/assets/nophoto/book/11...  \n",
       "1308955  https://s.gr-assets.com/assets/nophoto/book/11...  \n",
       "1308956  https://images.gr-assets.com/books/1398621236m...  \n",
       "\n",
       "[1308957 rows x 5 columns]"
      ]
     },
     "execution_count": 15,
     "metadata": {},
     "output_type": "execute_result"
    }
   ],
   "source": [
    "titles"
   ]
  },
  {
   "cell_type": "code",
   "execution_count": 16,
   "id": "0d6e0b73-dd49-410a-8692-bada4bf4a142",
   "metadata": {},
   "outputs": [],
   "source": [
    "titles['ratings']= pd.to_numeric(titles['ratings'])"
   ]
  },
  {
   "cell_type": "code",
   "execution_count": 20,
   "id": "714375f4-d3d6-4e8d-b4e6-680d2d4ba9b3",
   "metadata": {},
   "outputs": [
    {
     "data": {
      "text/plain": [
       "Jane Eyre                                        232\n",
       "Pride and Prejudice                              223\n",
       "Selected Poems                                   206\n",
       "Dracula                                          185\n",
       "Wuthering Heights                                174\n",
       "                                                ... \n",
       "¿Dónde está el límite?                             1\n",
       "Gonič zmajeva                                      1\n",
       "The Call to Duty (The Holy Flame Trilogy, #1)      1\n",
       "Obama: The Historic Journey                        1\n",
       "101 Nights: Volume One (101 Nights, #1-3)          1\n",
       "Name: title, Length: 990402, dtype: int64"
      ]
     },
     "execution_count": 20,
     "metadata": {},
     "output_type": "execute_result"
    }
   ],
   "source": [
    "titles['title'].value_counts()"
   ]
  },
  {
   "cell_type": "code",
   "execution_count": 30,
   "id": "8942866c-0898-4a73-97ba-e0e4a8b727d0",
   "metadata": {},
   "outputs": [],
   "source": [
    "titles['mod_title'] = titles['title'].str.replace(\"[^a-zA-Z0-9 ]\",\"\",regex=True)"
   ]
  },
  {
   "cell_type": "code",
   "execution_count": 31,
   "id": "260e8cbe-e45f-48d6-a56b-249cb95460f8",
   "metadata": {},
   "outputs": [],
   "source": [
    "titles['mod_title'] = titles['mod_title'].str.lower()"
   ]
  },
  {
   "cell_type": "code",
   "execution_count": 32,
   "id": "e2adbe00-402b-435b-91e3-ff25030df773",
   "metadata": {},
   "outputs": [],
   "source": [
    "titles['mod_title'] = titles['mod_title'].str.replace(\"\\s+\",\" \",regex=True)"
   ]
  },
  {
   "cell_type": "code",
   "execution_count": 36,
   "id": "1387971f-82a2-4df1-b779-f7a1d6798d28",
   "metadata": {},
   "outputs": [],
   "source": [
    "titles = titles.loc[titles['mod_title'].str.len()>0]"
   ]
  },
  {
   "cell_type": "code",
   "execution_count": 37,
   "id": "67a2ff0e-b638-420f-9974-e22855682eb9",
   "metadata": {},
   "outputs": [],
   "source": [
    "titles.to_json(\"books_titles.json\")"
   ]
  },
  {
   "cell_type": "code",
   "execution_count": 41,
   "id": "72c9847a-d5e5-4549-8d5c-ccf9c57a46a1",
   "metadata": {},
   "outputs": [],
   "source": [
    "from sklearn.feature_extraction.text import TfidfVectorizer"
   ]
  },
  {
   "cell_type": "code",
   "execution_count": 42,
   "id": "7af0e3d7-1cbb-4311-ad88-58c0c4b7b12c",
   "metadata": {},
   "outputs": [],
   "source": [
    "vectorizer = TfidfVectorizer()"
   ]
  },
  {
   "cell_type": "code",
   "execution_count": 43,
   "id": "c558deb1-cdf2-4d57-93cc-e37214ea34b3",
   "metadata": {},
   "outputs": [],
   "source": [
    "tfidf = vectorizer.fit_transform(titles['mod_title'])"
   ]
  },
  {
   "cell_type": "code",
   "execution_count": 106,
   "id": "79bae795-95e5-4741-a0a2-c563e077baf7",
   "metadata": {},
   "outputs": [],
   "source": [
    "from sklearn.metrics.pairwise import cosine_similarity\n",
    "import numpy as np\n",
    "import re\n",
    "\n",
    "def make_clickable(val):\n",
    "    return '<a target=\"_blank\" href=\"{}\">Goodreads</a>'.format(val)\n",
    "\n",
    "def show_image(val):\n",
    "    return '<img src=\"{}\" width=50></img>'.format(val)\n",
    "    \n",
    "def search(query,vectorizer):\n",
    "    processed = re.sub(\"[^a-zA-Z0-9 ]\",\"\",query.lower())\n",
    "    query_vec = vectorizer.transform([processed])\n",
    "    similarity = cosine_similarity(query_vec,tfidf).flatten()\n",
    "    indices = np.argpartition(similarity,-10)[-10:]\n",
    "    results = titles.iloc[indices]\n",
    "    results =  results.sort_values(by='ratings',ascending=False)\n",
    "    return results.head(5).style.format({'url':make_clickable,'cover_image':show_image})"
   ]
  },
  {
   "cell_type": "code",
   "execution_count": 112,
   "id": "71c0efe2-8757-451b-a584-9e733c5eef58",
   "metadata": {},
   "outputs": [
    {
     "data": {
      "text/html": [
       "<style type=\"text/css\">\n",
       "</style>\n",
       "<table id=\"T_e5eed\">\n",
       "  <thead>\n",
       "    <tr>\n",
       "      <th class=\"blank level0\" >&nbsp;</th>\n",
       "      <th id=\"T_e5eed_level0_col0\" class=\"col_heading level0 col0\" >book_id</th>\n",
       "      <th id=\"T_e5eed_level0_col1\" class=\"col_heading level0 col1\" >title</th>\n",
       "      <th id=\"T_e5eed_level0_col2\" class=\"col_heading level0 col2\" >ratings</th>\n",
       "      <th id=\"T_e5eed_level0_col3\" class=\"col_heading level0 col3\" >url</th>\n",
       "      <th id=\"T_e5eed_level0_col4\" class=\"col_heading level0 col4\" >cover_image</th>\n",
       "      <th id=\"T_e5eed_level0_col5\" class=\"col_heading level0 col5\" >mod_title</th>\n",
       "    </tr>\n",
       "  </thead>\n",
       "  <tbody>\n",
       "    <tr>\n",
       "      <th id=\"T_e5eed_level0_row0\" class=\"row_heading level0 row0\" >436303</th>\n",
       "      <td id=\"T_e5eed_row0_col0\" class=\"data row0 col0\" >32737635</td>\n",
       "      <td id=\"T_e5eed_row0_col1\" class=\"data row0 col1\" >The Most Dangerous Place on Earth</td>\n",
       "      <td id=\"T_e5eed_row0_col2\" class=\"data row0 col2\" >4063</td>\n",
       "      <td id=\"T_e5eed_row0_col3\" class=\"data row0 col3\" ><a target=\"_blank\" href=\"https://www.goodreads.com/book/show/32737635-the-most-dangerous-place-on-earth\">Goodreads</a></td>\n",
       "      <td id=\"T_e5eed_row0_col4\" class=\"data row0 col4\" ><img src=\"https://images.gr-assets.com/books/1477347638m/32737635.jpg\" width=50></img></td>\n",
       "      <td id=\"T_e5eed_row0_col5\" class=\"data row0 col5\" >the most dangerous place on earth</td>\n",
       "    </tr>\n",
       "    <tr>\n",
       "      <th id=\"T_e5eed_level0_row1\" class=\"row_heading level0 row1\" >1023440</th>\n",
       "      <td id=\"T_e5eed_row1_col0\" class=\"data row1 col0\" >17825585</td>\n",
       "      <td id=\"T_e5eed_row1_col1\" class=\"data row1 col1\" >Kobe (Demon Warriors #6)</td>\n",
       "      <td id=\"T_e5eed_row1_col2\" class=\"data row1 col2\" >372</td>\n",
       "      <td id=\"T_e5eed_row1_col3\" class=\"data row1 col3\" ><a target=\"_blank\" href=\"https://www.goodreads.com/book/show/17825585-kobe\">Goodreads</a></td>\n",
       "      <td id=\"T_e5eed_row1_col4\" class=\"data row1 col4\" ><img src=\"https://images.gr-assets.com/books/1367243122m/17825585.jpg\" width=50></img></td>\n",
       "      <td id=\"T_e5eed_row1_col5\" class=\"data row1 col5\" >kobe demon warriors 6</td>\n",
       "    </tr>\n",
       "    <tr>\n",
       "      <th id=\"T_e5eed_level0_row2\" class=\"row_heading level0 row2\" >1152525</th>\n",
       "      <td id=\"T_e5eed_row2_col0\" class=\"data row2 col0\" >28664947</td>\n",
       "      <td id=\"T_e5eed_row2_col1\" class=\"data row2 col1\" >Showboat: The Life of Kobe Bryant</td>\n",
       "      <td id=\"T_e5eed_row2_col2\" class=\"data row2 col2\" >235</td>\n",
       "      <td id=\"T_e5eed_row2_col3\" class=\"data row2 col3\" ><a target=\"_blank\" href=\"https://www.goodreads.com/book/show/28664947-showboat\">Goodreads</a></td>\n",
       "      <td id=\"T_e5eed_row2_col4\" class=\"data row2 col4\" ><img src=\"https://images.gr-assets.com/books/1468231621m/28664947.jpg\" width=50></img></td>\n",
       "      <td id=\"T_e5eed_row2_col5\" class=\"data row2 col5\" >showboat the life of kobe bryant</td>\n",
       "    </tr>\n",
       "    <tr>\n",
       "      <th id=\"T_e5eed_level0_row3\" class=\"row_heading level0 row3\" >425808</th>\n",
       "      <td id=\"T_e5eed_row3_col0\" class=\"data row3 col0\" >263753</td>\n",
       "      <td id=\"T_e5eed_row3_col1\" class=\"data row3 col1\" >On the Court with ... Kobe Bryant</td>\n",
       "      <td id=\"T_e5eed_row3_col2\" class=\"data row3 col2\" >93</td>\n",
       "      <td id=\"T_e5eed_row3_col3\" class=\"data row3 col3\" ><a target=\"_blank\" href=\"https://www.goodreads.com/book/show/263753.On_the_Court_with_Kobe_Bryant\">Goodreads</a></td>\n",
       "      <td id=\"T_e5eed_row3_col4\" class=\"data row3 col4\" ><img src=\"https://images.gr-assets.com/books/1344267850m/263753.jpg\" width=50></img></td>\n",
       "      <td id=\"T_e5eed_row3_col5\" class=\"data row3 col5\" >on the court with kobe bryant</td>\n",
       "    </tr>\n",
       "    <tr>\n",
       "      <th id=\"T_e5eed_level0_row4\" class=\"row_heading level0 row4\" >738374</th>\n",
       "      <td id=\"T_e5eed_row4_col0\" class=\"data row4 col0\" >24936935</td>\n",
       "      <td id=\"T_e5eed_row4_col1\" class=\"data row4 col1\" >A Walk to Kobe</td>\n",
       "      <td id=\"T_e5eed_row4_col2\" class=\"data row4 col2\" >53</td>\n",
       "      <td id=\"T_e5eed_row4_col3\" class=\"data row4 col3\" ><a target=\"_blank\" href=\"https://www.goodreads.com/book/show/24936935-a-walk-to-kobe\">Goodreads</a></td>\n",
       "      <td id=\"T_e5eed_row4_col4\" class=\"data row4 col4\" ><img src=\"https://images.gr-assets.com/books/1423961487m/24936935.jpg\" width=50></img></td>\n",
       "      <td id=\"T_e5eed_row4_col5\" class=\"data row4 col5\" >a walk to kobe</td>\n",
       "    </tr>\n",
       "  </tbody>\n",
       "</table>\n"
      ],
      "text/plain": [
       "<pandas.io.formats.style.Styler at 0x7fb5d86354f0>"
      ]
     },
     "execution_count": 112,
     "metadata": {},
     "output_type": "execute_result"
    }
   ],
   "source": [
    "query = \"Kobe\"\n",
    "search(query,vectorizer)"
   ]
  },
  {
   "cell_type": "code",
   "execution_count": null,
   "id": "a5b3db2b-c741-4390-958c-06517c50e045",
   "metadata": {},
   "outputs": [],
   "source": []
  },
  {
   "cell_type": "code",
   "execution_count": null,
   "id": "f2c029d3-fc3d-4a6d-b31f-66f94ad9c2d9",
   "metadata": {},
   "outputs": [],
   "source": []
  }
 ],
 "metadata": {
  "kernelspec": {
   "display_name": "Python 3 (ipykernel)",
   "language": "python",
   "name": "python3"
  },
  "language_info": {
   "codemirror_mode": {
    "name": "ipython",
    "version": 3
   },
   "file_extension": ".py",
   "mimetype": "text/x-python",
   "name": "python",
   "nbconvert_exporter": "python",
   "pygments_lexer": "ipython3",
   "version": "3.9.16"
  }
 },
 "nbformat": 4,
 "nbformat_minor": 5
}
